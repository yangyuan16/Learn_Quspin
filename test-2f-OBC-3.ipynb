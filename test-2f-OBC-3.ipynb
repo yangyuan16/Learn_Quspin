{
 "cells": [
  {
   "cell_type": "code",
   "execution_count": 2,
   "metadata": {},
   "outputs": [],
   "source": [
    "# 2 fermions Hubbard model OBC\n",
    "# Sz = 0 + partiy symmetry\n",
    "\n",
    "import numpy as np\n",
    "from quspin.operators import hamiltonian\n",
    "from quspin.basis import spinful_fermion_basis_1d # Hilbert space spinful fermion basis"
   ]
  },
  {
   "cell_type": "code",
   "execution_count": 3,
   "metadata": {},
   "outputs": [],
   "source": [
    "L = 2 # system size\n",
    "# 考虑开放边界条件\n",
    "# 写出 耦合项 list\n",
    "# hop_right 和 hop_left 符号相反\n",
    "# 化学势能 mu = 0\n",
    "mu = 0 # chemical potensial \n",
    "J = 1.0 # hopping strength\n",
    "U = np.sqrt(2) # onsite interaction strength\n",
    "hop_right = [[J, i, i+1] for i in range(L-1)] # OBC\n",
    "hop_left = [[-J, i, i+1] for i in range (L-1)] # OBC\n",
    "pot = [[-mu, i] for i in range(L)] #\n",
    "interact = [[U, i, i] for i in range(L)]\n",
    "# 定义 static list 和 dynamic list\n",
    "static = [\n",
    "    ['+-|', hop_left], # up hops left\n",
    "    ['-+|', hop_right], # up hops right\n",
    "    ['|+-', hop_left], # down hops left\n",
    "    ['|-+', hop_right], # down hops right\n",
    "    ['n|', pot], # up on-site potention\n",
    "    ['|n', pot], # down on-site potention\n",
    "    ['n|n', interact] # up-down interation\n",
    "    ]\n",
    "dynamic=[]"
   ]
  },
  {
   "cell_type": "code",
   "execution_count": 3,
   "metadata": {},
   "outputs": [
    {
     "name": "stdout",
     "output_type": "stream",
     "text": [
      "computational basis of (1,1): reference states: \n",
      "array index   /   Fock state   /   integer repr. \n",
      "     0.         |1 0>|1 0>           10  \n",
      "     1.         |1 0>|0 1>            9  \n",
      "     2.         |0 1>|1 0>            6  \n",
      "     3.         |0 1>|0 1>            5  \n",
      "Hermiticity check passed!\n",
      "Particle conservation check passed!\n"
     ]
    },
    {
     "name": "stderr",
     "output_type": "stream",
     "text": [
      "C:\\Users\\admin\\AppData\\Local\\Temp\\ipykernel_2856\\803075904.py:8: UserWarning: Test for symmetries not implemented for <class 'quspin.basis.basis_1d.fermion.spinful_fermion_basis_1d'>, to turn off this warning set check_symm=False in hamiltonian\n",
      "  H=hamiltonian(static,dynamic,dtype=np.float64,basis=basis)\n"
     ]
    },
    {
     "name": "stdout",
     "output_type": "stream",
     "text": [
      "nonzero-elements in Hamiltonian:\n",
      " static mat: \n",
      "  (0, 0)\t1.4142135623730951\n",
      "  (0, 1)\t-1.0\n",
      "  (0, 2)\t-1.0\n",
      "  (1, 0)\t-1.0\n",
      "  (1, 3)\t-1.0\n",
      "  (2, 0)\t-1.0\n",
      "  (2, 3)\t-1.0\n",
      "  (3, 1)\t-1.0\n",
      "  (3, 2)\t-1.0\n",
      "  (3, 3)\t1.4142135623730951\n",
      "\n",
      "\n",
      "dynamic:\n",
      "\n",
      "the eigen values of Hamiltonian [-1.41421356  0.          1.41421356  2.82842712]\n"
     ]
    }
   ],
   "source": [
    "#  在 Sz = 0 的空间中构造基矢量, 查看哈密顿矩阵\n",
    "Nf_up = 1 # number of fermions with spin up\n",
    "Nf_down = 1 # number of fermions with spin down\n",
    "# Nf_up - Nf_down = 0, ==>  Sz = 0 的空间构造基矢量\n",
    "basis = spinful_fermion_basis_1d(L=L, Nf=(Nf_up, Nf_down),a=1,)\n",
    "print(\"computational basis of (1,1):\", basis)\n",
    "\n",
    "H=hamiltonian(static,dynamic,dtype=np.float64,basis=basis)\n",
    "print('nonzero-elements in Hamiltonian:\\n', H.H)\n",
    "print('the eigen values of Hamiltonian', H.eigvalsh())"
   ]
  },
  {
   "cell_type": "code",
   "execution_count": 4,
   "metadata": {},
   "outputs": [
    {
     "name": "stdout",
     "output_type": "stream",
     "text": [
      "computational basis of (1,1): reference states: \n",
      "array index   /   Fock state   /   integer repr. \n",
      "     0.         |1 0>|1 0>           10  \n",
      "     1.         |1 0>|0 1>            9  \n",
      "The states printed do NOT correspond to the physical states: see review arXiv:1101.3281 for more details about reference states for symmetry-reduced blocks.\n",
      "\n",
      "Hermiticity check passed!\n",
      "Particle conservation check passed!\n",
      "nonzero-elements in Hamiltonian:\n",
      " static mat: \n",
      "  (0, 0)\t1.4142135623730951\n",
      "  (0, 1)\t-2.0\n",
      "  (1, 0)\t-2.0\n",
      "\n",
      "\n",
      "dynamic:\n",
      "\n",
      "the eigen values of Hamiltonian [-1.41421356  2.82842712]\n"
     ]
    },
    {
     "name": "stderr",
     "output_type": "stream",
     "text": [
      "C:\\Users\\admin\\AppData\\Local\\Temp\\ipykernel_2856\\4013414527.py:8: UserWarning: Test for symmetries not implemented for <class 'quspin.basis.basis_1d.fermion.spinful_fermion_basis_1d'>, to turn off this warning set check_symm=False in hamiltonian\n",
      "  H=hamiltonian(static,dynamic,dtype=np.float64,basis=basis)\n"
     ]
    }
   ],
   "source": [
    "#  在 Sz = 0 的空间中构造基矢量, 并且设置 pblock=1 (partial symmetry), 查看哈密顿矩阵\n",
    "Nf_up = 1 # number of fermions with spin up\n",
    "Nf_down = 1 # number of fermions with spin down\n",
    "# Nf_up - Nf_down = 0, ==>  Sz = 0 的空间构造基矢量\n",
    "basis = spinful_fermion_basis_1d(L=L, Nf=(Nf_up, Nf_down),a=1, pblock=1)\n",
    "print(\"computational basis of (1,1):\", basis)\n",
    "\n",
    "H=hamiltonian(static,dynamic,dtype=np.float64,basis=basis)\n",
    "print('nonzero-elements in Hamiltonian:\\n', H.H)\n",
    "print('the eigen values of Hamiltonian', H.eigvalsh())"
   ]
  },
  {
   "cell_type": "code",
   "execution_count": 5,
   "metadata": {},
   "outputs": [
    {
     "name": "stdout",
     "output_type": "stream",
     "text": [
      "computational basis of (1,1): reference states: \n",
      "array index   /   Fock state   /   integer repr. \n",
      "     0.         |1 0>|1 0>           10  \n",
      "     1.         |1 0>|0 1>            9  \n",
      "The states printed do NOT correspond to the physical states: see review arXiv:1101.3281 for more details about reference states for symmetry-reduced blocks.\n",
      "\n",
      "Hermiticity check passed!\n",
      "Particle conservation check passed!\n",
      "nonzero-elements in Hamiltonian:\n",
      " static mat: \n",
      "  (0, 0)\t1.4142135623730951\n",
      "\n",
      "\n",
      "dynamic:\n",
      "\n",
      "the eigen values of Hamiltonian [0.         1.41421356]\n"
     ]
    },
    {
     "name": "stderr",
     "output_type": "stream",
     "text": [
      "C:\\Users\\admin\\AppData\\Local\\Temp\\ipykernel_2856\\2347295488.py:8: UserWarning: Test for symmetries not implemented for <class 'quspin.basis.basis_1d.fermion.spinful_fermion_basis_1d'>, to turn off this warning set check_symm=False in hamiltonian\n",
      "  H=hamiltonian(static,dynamic,dtype=np.float64,basis=basis)\n"
     ]
    }
   ],
   "source": [
    "#  在 Sz = 0 的空间中构造基矢量, 并且设置 pblock=-1 (partial symmetry), 查看哈密顿矩阵\n",
    "Nf_up = 1 # number of fermions with spin up\n",
    "Nf_down = 1 # number of fermions with spin down\n",
    "# Nf_up - Nf_down = 0, ==>  Sz = 0 的空间构造基矢量\n",
    "basis = spinful_fermion_basis_1d(L=L, Nf=(Nf_up, Nf_down),a=1, pblock=-1)\n",
    "print(\"computational basis of (1,1):\", basis)\n",
    "\n",
    "H=hamiltonian(static,dynamic,dtype=np.float64,basis=basis)\n",
    "print('nonzero-elements in Hamiltonian:\\n', H.H)\n",
    "print('the eigen values of Hamiltonian', H.eigvalsh())"
   ]
  },
  {
   "cell_type": "markdown",
   "metadata": {},
   "source": [
    "* 发现加 pblock =1 symmetry 可以重复出文章 arxiv: 0807.4878v1"
   ]
  },
  {
   "cell_type": "code",
   "execution_count": 4,
   "metadata": {},
   "outputs": [
    {
     "name": "stdout",
     "output_type": "stream",
     "text": [
      "computational basis of (1,1): reference states: \n",
      "array index   /   Fock state   /   integer repr. \n",
      "     0.         |1 0>|1 0>           10  \n",
      "The states printed do NOT correspond to the physical states: see review arXiv:1101.3281 for more details about reference states for symmetry-reduced blocks.\n",
      "\n",
      "Hermiticity check passed!\n",
      "Particle conservation check passed!\n"
     ]
    },
    {
     "name": "stderr",
     "output_type": "stream",
     "text": [
      "C:\\Users\\admin\\AppData\\Local\\Temp\\ipykernel_10996\\2311022830.py:8: UserWarning: Test for symmetries not implemented for <class 'quspin.basis.basis_1d.fermion.spinful_fermion_basis_1d'>, to turn off this warning set check_symm=False in hamiltonian\n",
      "  H=hamiltonian(static,dynamic,dtype=np.float64,basis=basis)\n"
     ]
    },
    {
     "name": "stdout",
     "output_type": "stream",
     "text": [
      "nonzero-elements in Hamiltonian:\n",
      " static mat: \n",
      "  (0, 0)\t1.4142135623730951\n",
      "\n",
      "\n",
      "dynamic:\n",
      "\n",
      "the eigen values of Hamiltonian [1.41421356]\n"
     ]
    }
   ],
   "source": [
    "#  在 Sz = 0 的空间中构造基矢量, 并且设置 psblock=1 (partial symmetry with spin inversion symmetry), 查看哈密顿矩阵\n",
    "Nf_up = 1 # number of fermions with spin up\n",
    "Nf_down = 1 # number of fermions with spin down\n",
    "# Nf_up - Nf_down = 0, ==>  Sz = 0 的空间构造基矢量\n",
    "basis = spinful_fermion_basis_1d(L=L, Nf=(Nf_up, Nf_down),a=1, psblock=1)\n",
    "print(\"computational basis of (1,1):\", basis)\n",
    "\n",
    "H=hamiltonian(static,dynamic,dtype=np.float64,basis=basis)\n",
    "print('nonzero-elements in Hamiltonian:\\n', H.H)\n",
    "print('the eigen values of Hamiltonian', H.eigvalsh())"
   ]
  },
  {
   "cell_type": "code",
   "execution_count": 5,
   "metadata": {},
   "outputs": [
    {
     "name": "stdout",
     "output_type": "stream",
     "text": [
      "computational basis of (1,1): reference states: \n",
      "array index   /   Fock state   /   integer repr. \n",
      "     0.         |1 0>|1 0>           10  \n",
      "The states printed do NOT correspond to the physical states: see review arXiv:1101.3281 for more details about reference states for symmetry-reduced blocks.\n",
      "\n",
      "Hermiticity check passed!\n",
      "Particle conservation check passed!\n",
      "nonzero-elements in Hamiltonian:\n",
      " static mat: \n",
      "  (0, 0)\t1.4142135623730951\n",
      "\n",
      "\n",
      "dynamic:\n",
      "\n",
      "the eigen values of Hamiltonian [1.41421356]\n"
     ]
    },
    {
     "name": "stderr",
     "output_type": "stream",
     "text": [
      "C:\\Users\\admin\\AppData\\Local\\Temp\\ipykernel_10996\\20850847.py:8: UserWarning: Test for symmetries not implemented for <class 'quspin.basis.basis_1d.fermion.spinful_fermion_basis_1d'>, to turn off this warning set check_symm=False in hamiltonian\n",
      "  H=hamiltonian(static,dynamic,dtype=np.float64,basis=basis)\n"
     ]
    }
   ],
   "source": [
    "#  在 Sz = 0 的空间中构造基矢量, 并且设置 sblock=1 (spin inversion symmetry), 查看哈密顿矩阵\n",
    "Nf_up = 1 # number of fermions with spin up\n",
    "Nf_down = 1 # number of fermions with spin down\n",
    "# Nf_up - Nf_down = 0, ==>  Sz = 0 的空间构造基矢量\n",
    "basis = spinful_fermion_basis_1d(L=L, Nf=(Nf_up, Nf_down),a=1, psblock=1)\n",
    "print(\"computational basis of (1,1):\", basis)\n",
    "\n",
    "H=hamiltonian(static,dynamic,dtype=np.float64,basis=basis)\n",
    "print('nonzero-elements in Hamiltonian:\\n', H.H)\n",
    "print('the eigen values of Hamiltonian', H.eigvalsh())"
   ]
  }
 ],
 "metadata": {
  "kernelspec": {
   "display_name": "Quspinenv2",
   "language": "python",
   "name": "python3"
  },
  "language_info": {
   "codemirror_mode": {
    "name": "ipython",
    "version": 3
   },
   "file_extension": ".py",
   "mimetype": "text/x-python",
   "name": "python",
   "nbconvert_exporter": "python",
   "pygments_lexer": "ipython3",
   "version": "3.8.17"
  },
  "orig_nbformat": 4
 },
 "nbformat": 4,
 "nbformat_minor": 2
}
