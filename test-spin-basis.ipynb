{
 "cells": [
  {
   "cell_type": "code",
   "execution_count": 2,
   "metadata": {},
   "outputs": [],
   "source": [
    "# 测试自旋模型基矢量的对称性操作 zblock\n",
    "from quspin.operators import hamiltonian # Hamiltonians and operators\n",
    "from quspin.basis import spin_basis_1d\n",
    "import numpy as np # generic math functions\n",
    "#import matplotlib.pyplot as plt # plotting library"
   ]
  },
  {
   "cell_type": "code",
   "execution_count": 13,
   "metadata": {},
   "outputs": [
    {
     "name": "stdout",
     "output_type": "stream",
     "text": [
      "basis_spin:\n",
      " reference states: \n",
      "array index   /   Fock state   /   integer repr. \n",
      "     0.         |1 1>           3  \n",
      "     1.         |1 0>           2  \n",
      "     2.         |0 1>           1  \n",
      "     3.         |0 0>           0  \n",
      "basis_spin_1:\n",
      " reference states: \n",
      "array index   /   Fock state   /   integer repr. \n",
      "     0.         |1 1>           3  \n",
      "     1.         |1 0>           2  \n",
      "The states printed do NOT correspond to the physical states: see review arXiv:1101.3281 for more details about reference states for symmetry-reduced blocks.\n",
      "\n",
      "basis_spin_1:\n",
      " reference states: \n",
      "array index   /   Fock state   /   integer repr. \n",
      "     0.         |1 1>           3  \n",
      "     1.         |1 0>           2  \n",
      "The states printed do NOT correspond to the physical states: see review arXiv:1101.3281 for more details about reference states for symmetry-reduced blocks.\n",
      "\n"
     ]
    }
   ],
   "source": [
    "# 模型参数 横场Ising model\n",
    "# PBC for both spin inversion sectors \n",
    "L = 2\n",
    "J = 1.0 # spin zz interaction\n",
    "h = np.sqrt(2) # z magnetic field strength\n",
    "\n",
    "h_field = [[-h,i] for i in range(L)]\n",
    "J_zz = [[-J, i, (i+1)%L] for i in range(L)] # PBC\n",
    "\n",
    "# define spin static and dynamic lists\n",
    "static_spin = [[\"zz\", J_zz], [\"x\", h_field]]\n",
    "dynamic_spin = []\n",
    "\n",
    "# for spin systems, we use spin_basis_1d which supports the \n",
    "# operator strings \"z\", \"+\", \"-\", \"I\"\n",
    "# and for spin-1/2 additionally \"x\", \"y\"\n",
    "\n",
    "# if we want to construct an operator in the spin-inversion block with \n",
    "# quantum number +1, we can conveniently do this using the flag zblock = 1\n",
    "basis_spin = spin_basis_1d(L=L)\n",
    "print(\"basis_spin:\\n\",basis_spin)\n",
    "\n",
    "basis_spin_u1 = spin_basis_1d(L=L, zblock = 1)\n",
    "print(\"basis_spin_1:\\n\", basis_spin_u1)\n",
    "\n",
    "basis_spin_d1 = spin_basis_1d(L=L, zblock = -1)\n",
    "print(\"basis_spin_1:\\n\", basis_spin_d1)"
   ]
  },
  {
   "cell_type": "code",
   "execution_count": 14,
   "metadata": {},
   "outputs": [
    {
     "name": "stdout",
     "output_type": "stream",
     "text": [
      "Hermiticity check passed!\n",
      "static mat: \n",
      "  (0, 0)\t-2.0\n",
      "  (0, 1)\t-1.4142135623730951\n",
      "  (0, 2)\t-1.4142135623730951\n",
      "  (1, 0)\t-1.4142135623730951\n",
      "  (1, 1)\t2.0\n",
      "  (1, 3)\t-1.4142135623730951\n",
      "  (2, 0)\t-1.4142135623730951\n",
      "  (2, 2)\t2.0\n",
      "  (2, 3)\t-1.4142135623730951\n",
      "  (3, 1)\t-1.4142135623730951\n",
      "  (3, 2)\t-1.4142135623730951\n",
      "  (3, 3)\t-2.0\n",
      "\n",
      "\n",
      "dynamic:\n",
      "\n"
     ]
    },
    {
     "name": "stderr",
     "output_type": "stream",
     "text": [
      "C:\\Users\\admin\\AppData\\Local\\Temp\\ipykernel_5048\\1347506154.py:1: UserWarning: Test for symmetries not implemented for <class 'quspin.basis.basis_1d.spin.spin_basis_1d'>, to turn off this warning set check_symm=False in hamiltonian\n",
      "  H_spin = hamiltonian(static_list=static_spin,dynamic_list=dynamic_spin,\n"
     ]
    }
   ],
   "source": [
    "H_spin = hamiltonian(static_list=static_spin,dynamic_list=dynamic_spin,\n",
    "                     basis=basis_spin,dtype=np.float64)\n",
    "print(H_spin.H)"
   ]
  },
  {
   "cell_type": "code",
   "execution_count": 15,
   "metadata": {},
   "outputs": [
    {
     "name": "stdout",
     "output_type": "stream",
     "text": [
      "Hermiticity check passed!\n",
      "static mat: \n",
      "  (0, 0)\t-2.0\n",
      "  (0, 1)\t-2.8284271247461903\n",
      "  (1, 0)\t-2.8284271247461903\n",
      "  (1, 1)\t2.0\n",
      "\n",
      "\n",
      "dynamic:\n",
      "\n"
     ]
    },
    {
     "name": "stderr",
     "output_type": "stream",
     "text": [
      "C:\\Users\\admin\\AppData\\Local\\Temp\\ipykernel_5048\\1558762549.py:1: UserWarning: Test for symmetries not implemented for <class 'quspin.basis.basis_1d.spin.spin_basis_1d'>, to turn off this warning set check_symm=False in hamiltonian\n",
      "  H_spin = hamiltonian(static_list=static_spin,dynamic_list=dynamic_spin,\n"
     ]
    }
   ],
   "source": [
    "H_spin = hamiltonian(static_list=static_spin,dynamic_list=dynamic_spin,\n",
    "                     basis=basis_spin_u1,dtype=np.float64)\n",
    "print(H_spin.H)"
   ]
  }
 ],
 "metadata": {
  "kernelspec": {
   "display_name": "Quspinenv2",
   "language": "python",
   "name": "python3"
  },
  "language_info": {
   "codemirror_mode": {
    "name": "ipython",
    "version": 3
   },
   "file_extension": ".py",
   "mimetype": "text/x-python",
   "name": "python",
   "nbconvert_exporter": "python",
   "pygments_lexer": "ipython3",
   "version": "3.8.17"
  },
  "orig_nbformat": 4
 },
 "nbformat": 4,
 "nbformat_minor": 2
}
