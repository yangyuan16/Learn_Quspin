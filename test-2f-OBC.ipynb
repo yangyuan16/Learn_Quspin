{
 "cells": [
  {
   "cell_type": "code",
   "execution_count": 1,
   "metadata": {},
   "outputs": [
    {
     "name": "stdout",
     "output_type": "stream",
     "text": [
      "computational basis: reference states: \n",
      "array index   /   Fock state   /   integer repr. \n",
      "     0.         |1 0>|1 0>           10  \n",
      "     1.         |1 0>|0 1>            9  \n",
      "     2.         |0 1>|1 0>            6  \n",
      "     3.         |0 1>|0 1>            5  \n"
     ]
    }
   ],
   "source": [
    "# 2 fermions  OBC\n",
    "import numpy as np\n",
    "from quspin.operators import hamiltonian\n",
    "from quspin.basis import spinful_fermion_basis_1d # Hilbert space spinful fermion basis\n",
    "\n",
    "# define model parameters\n",
    "\n",
    "L = 2 # system size\n",
    "# 默认是在 Sz = 0 的空间构造基矢量\n",
    "basis = spinful_fermion_basis_1d(L=L, Nf=(L//2, L//2),a=1,)\n",
    "print(\"computational basis:\", basis)"
   ]
  },
  {
   "cell_type": "code",
   "execution_count": 19,
   "metadata": {},
   "outputs": [
    {
     "name": "stdout",
     "output_type": "stream",
     "text": [
      "Hermiticity check passed!\n",
      "Particle conservation check passed!\n",
      "nonzero-elements in Hamiltonian:\n",
      " static mat: \n",
      "  (0, 0)\t-4.585786437626905\n",
      "  (0, 1)\t-1.0\n",
      "  (0, 2)\t-1.0\n",
      "  (1, 0)\t-1.0\n",
      "  (1, 1)\t-6.0\n",
      "  (1, 3)\t-1.0\n",
      "  (2, 0)\t-1.0\n",
      "  (2, 2)\t-6.0\n",
      "  (2, 3)\t-1.0\n",
      "  (3, 1)\t-1.0\n",
      "  (3, 2)\t-1.0\n",
      "  (3, 3)\t-4.585786437626905\n",
      "\n",
      "\n",
      "dynamic:\n",
      "\n",
      "the diagnal elements of Hamiltonian [-4.58578644 -6.         -6.         -4.58578644]\n",
      "the eigen vectors of Hamiltonian (array([-7.41421356, -6.        , -4.58578644, -3.17157288]), array([[-4.08248290e-01,  6.28036983e-16,  7.07106781e-01,\n",
      "        -5.77350269e-01],\n",
      "       [-5.77350269e-01,  7.07106781e-01, -1.04749863e-15,\n",
      "         4.08248290e-01],\n",
      "       [-5.77350269e-01, -7.07106781e-01, -6.79603079e-16,\n",
      "         4.08248290e-01],\n",
      "       [-4.08248290e-01,  1.11022302e-16, -7.07106781e-01,\n",
      "        -5.77350269e-01]]))\n",
      "the eigen values of Hamiltonian [-7.41421356 -6.         -4.58578644 -3.17157288]\n"
     ]
    },
    {
     "name": "stderr",
     "output_type": "stream",
     "text": [
      "C:\\Users\\admin\\AppData\\Local\\Temp\\ipykernel_10272\\1352060133.py:23: UserWarning: Test for symmetries not implemented for <class 'quspin.basis.basis_1d.fermion.spinful_fermion_basis_1d'>, to turn off this warning set check_symm=False in hamiltonian\n",
      "  H=hamiltonian(static,dynamic,dtype=np.float64,basis=basis)\n"
     ]
    }
   ],
   "source": [
    "# 考虑开放边界条件\n",
    "# 写出 耦合项 list\n",
    "# hop_right 和 hop_left 符号相反\n",
    "# 化学势能 mu = 0\n",
    "mu = 3 # chemical potensial \n",
    "J = 1.0 # hopping strength\n",
    "U = np.sqrt(2) # onsite interaction strength\n",
    "hop_right = [[J, i, i+1] for i in range(L-1)] # OBC\n",
    "hop_left = [[-J, i, i+1] for i in range (L-1)] # OBC\n",
    "pot = [[-mu, i] for i in range(L)] #\n",
    "interact = [[U, i, i] for i in range(L)]\n",
    "# 定义 static list 和 dynamic list\n",
    "static = [\n",
    "    ['+-|', hop_left], # up hops left\n",
    "    ['-+|', hop_right], # up hops right\n",
    "    ['|+-', hop_left], # down hops left\n",
    "    ['|-+', hop_right], # down hops right\n",
    "    ['n|', pot], # up on-site potention\n",
    "    ['|n', pot], # down on-site potention\n",
    "    ['n|n', interact] # up-down interation\n",
    "    ]\n",
    "dynamic=[]\n",
    "H=hamiltonian(static,dynamic,dtype=np.float64,basis=basis)\n",
    "print('nonzero-elements in Hamiltonian:\\n', H.H)\n",
    "print('the diagnal elements of Hamiltonian', H.diagonal())\n",
    "print('the eigen vectors of Hamiltonian', H.eigh())\n",
    "print('the eigen values of Hamiltonian', H.eigvalsh())"
   ]
  }
 ],
 "metadata": {
  "kernelspec": {
   "display_name": "Quspinenv2",
   "language": "python",
   "name": "python3"
  },
  "language_info": {
   "codemirror_mode": {
    "name": "ipython",
    "version": 3
   },
   "file_extension": ".py",
   "mimetype": "text/x-python",
   "name": "python",
   "nbconvert_exporter": "python",
   "pygments_lexer": "ipython3",
   "version": "3.8.17"
  },
  "orig_nbformat": 4
 },
 "nbformat": 4,
 "nbformat_minor": 2
}
