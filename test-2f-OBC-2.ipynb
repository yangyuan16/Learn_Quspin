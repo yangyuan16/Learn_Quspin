{
 "cells": [
  {
   "cell_type": "code",
   "execution_count": 1,
   "metadata": {},
   "outputs": [
    {
     "name": "stdout",
     "output_type": "stream",
     "text": [
      "computational basis of (1,1): reference states: \n",
      "array index   /   Fock state   /   integer repr. \n",
      "     0.         |1 0>|1 0>           10  \n",
      "     1.         |1 0>|0 1>            9  \n",
      "     2.         |0 1>|1 0>            6  \n",
      "     3.         |0 1>|0 1>            5  \n",
      "computational basis of (1,1): reference states: \n",
      "array index   /   Fock state   /   integer repr. \n",
      "     0.         |1 1>|0 0>           12  \n",
      "computational basis of (1,1): reference states: \n",
      "array index   /   Fock state   /   integer repr. \n",
      "     0.         |0 0>|1 1>           3  \n"
     ]
    }
   ],
   "source": [
    "# 2 fermions  OBC\n",
    "import numpy as np\n",
    "from quspin.operators import hamiltonian\n",
    "from quspin.basis import spinful_fermion_basis_1d # Hilbert space spinful fermion basis\n",
    "\n",
    "# define model parameters\n",
    "\n",
    "L = 2 # system size\n",
    "Nf_up = 1 # number of fermions with spin up\n",
    "Nf_down = 1 # number of fermions with spin down\n",
    "# Nf_up - Nf_down = 0, ==>  Sz = 0 的空间构造基矢量\n",
    "basis_1_1 = spinful_fermion_basis_1d(L=L, Nf=(Nf_up, Nf_down),a=1,)\n",
    "print(\"computational basis of (1,1):\", basis_1_1)\n",
    "\n",
    "Nf_up = 2\n",
    "Nf_down = 0\n",
    "# Nf_up - Nf_down = 2*(1/2) = 1, ==> Sz = 1 的空间构造基矢量\n",
    "basis_2_0 = spinful_fermion_basis_1d(L=L, Nf=(Nf_up, Nf_down), a = 1)\n",
    "print(\"computational basis of (1,1):\", basis_2_0)\n",
    "\n",
    "Nf_up = 0\n",
    "Nf_down = 2\n",
    "# Nf_up - Nf_down = -2*(1/2) = -1, ==> Sz = -1 的空间构造基矢量\n",
    "basis_0_2 = spinful_fermion_basis_1d(L=L, Nf=(Nf_up, Nf_down), a = 1)\n",
    "print(\"computational basis of (1,1):\", basis_0_2)\n"
   ]
  },
  {
   "cell_type": "code",
   "execution_count": 2,
   "metadata": {},
   "outputs": [
    {
     "name": "stdout",
     "output_type": "stream",
     "text": [
      "---------Hamiltonian in Sz = 1 space ----------------\n",
      "Hermiticity check passed!\n",
      "Particle conservation check passed!\n",
      "nonzero-elements in Hamiltonian:\n",
      " static mat: \n",
      "\n",
      "\n",
      "\n",
      "dynamic:\n",
      "\n",
      "the diagnal elements of Hamiltonian [0.]\n",
      "the eigen vectors of Hamiltonian (array([0.]), array([[1.]]))\n",
      "the eigen values of Hamiltonian [0.]\n",
      "---------Hamiltonian in Sz = -1 space ----------------\n",
      "Hermiticity check passed!\n",
      "Particle conservation check passed!\n",
      "nonzero-elements in Hamiltonian:\n",
      " static mat: \n",
      "\n",
      "\n",
      "\n",
      "dynamic:\n",
      "\n",
      "the diagnal elements of Hamiltonian [0.]\n",
      "the eigen vectors of Hamiltonian (array([0.]), array([[1.]]))\n",
      "the eigen values of Hamiltonian [0.]\n"
     ]
    },
    {
     "name": "stderr",
     "output_type": "stream",
     "text": [
      "C:\\Users\\admin\\AppData\\Local\\Temp\\ipykernel_3716\\436858902.py:24: UserWarning: Test for symmetries not implemented for <class 'quspin.basis.basis_1d.fermion.spinful_fermion_basis_1d'>, to turn off this warning set check_symm=False in hamiltonian\n",
      "  H_2_0=hamiltonian(static,dynamic,dtype=np.float64,basis=basis_2_0)\n",
      "C:\\Users\\admin\\AppData\\Local\\Temp\\ipykernel_3716\\436858902.py:31: UserWarning: Test for symmetries not implemented for <class 'quspin.basis.basis_1d.fermion.spinful_fermion_basis_1d'>, to turn off this warning set check_symm=False in hamiltonian\n",
      "  H_0_2=hamiltonian(static,dynamic,dtype=np.float64,basis=basis_0_2)\n"
     ]
    }
   ],
   "source": [
    "# 考虑开放边界条件\n",
    "# 写出 耦合项 list\n",
    "# hop_right 和 hop_left 符号相反\n",
    "# 化学势能 mu = 0\n",
    "mu = 0 # chemical potensial \n",
    "J = 1.0 # hopping strength\n",
    "U = np.sqrt(2) # onsite interaction strength\n",
    "hop_right = [[J, i, i+1] for i in range(L-1)] # OBC\n",
    "hop_left = [[-J, i, i+1] for i in range (L-1)] # OBC\n",
    "pot = [[-mu, i] for i in range(L)] #\n",
    "interact = [[U, i, i] for i in range(L)]\n",
    "# 定义 static list 和 dynamic list\n",
    "static = [\n",
    "    ['+-|', hop_left], # up hops left\n",
    "    ['-+|', hop_right], # up hops right\n",
    "    ['|+-', hop_left], # down hops left\n",
    "    ['|-+', hop_right], # down hops right\n",
    "    ['n|', pot], # up on-site potention\n",
    "    ['|n', pot], # down on-site potention\n",
    "    ['n|n', interact] # up-down interation\n",
    "    ]\n",
    "dynamic=[]\n",
    "print('---------Hamiltonian in Sz = 1 space ----------------')\n",
    "H_2_0=hamiltonian(static,dynamic,dtype=np.float64,basis=basis_2_0)\n",
    "print('nonzero-elements in Hamiltonian:\\n', H_2_0.H)\n",
    "print('the diagnal elements of Hamiltonian', H_2_0.diagonal())\n",
    "print('the eigen vectors of Hamiltonian', H_2_0.eigh())\n",
    "print('the eigen values of Hamiltonian', H_2_0.eigvalsh())\n",
    "\n",
    "print('---------Hamiltonian in Sz = -1 space ----------------')\n",
    "H_0_2=hamiltonian(static,dynamic,dtype=np.float64,basis=basis_0_2)\n",
    "print('nonzero-elements in Hamiltonian:\\n', H_0_2.H)\n",
    "print('the diagnal elements of Hamiltonian', H_0_2.diagonal())\n",
    "print('the eigen vectors of Hamiltonian', H_0_2.eigh())\n",
    "print('the eigen values of Hamiltonian', H_0_2.eigvalsh())\n",
    "\n"
   ]
  }
 ],
 "metadata": {
  "kernelspec": {
   "display_name": "Quspinenv2",
   "language": "python",
   "name": "python3"
  },
  "language_info": {
   "codemirror_mode": {
    "name": "ipython",
    "version": 3
   },
   "file_extension": ".py",
   "mimetype": "text/x-python",
   "name": "python",
   "nbconvert_exporter": "python",
   "pygments_lexer": "ipython3",
   "version": "3.8.17"
  },
  "orig_nbformat": 4
 },
 "nbformat": 4,
 "nbformat_minor": 2
}
