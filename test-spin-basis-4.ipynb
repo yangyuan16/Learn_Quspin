{
 "cells": [
  {
   "cell_type": "code",
   "execution_count": 1,
   "metadata": {},
   "outputs": [],
   "source": [
    "# 测试 4 比特 Heisenberg 模型在不同的对称性变化基矢量下的哈密顿矩阵构造，以及本真值 \n",
    "#\n",
    "from quspin.operators import hamiltonian # Hamiltonians and operators\n",
    "from quspin.basis import spin_basis_1d\n",
    "import numpy as np # generic math functions"
   ]
  },
  {
   "cell_type": "code",
   "execution_count": 2,
   "metadata": {},
   "outputs": [],
   "source": [
    "# 构造 XXZ 哈密顿量\n",
    "# define operators with OBC using site-coupling lists\n",
    "L = 4\n",
    "Jxy = np.sqrt(1.0) # xy interaction\n",
    "Jzz_0 = 1.0 # zz interactiion\n",
    "hz = 0 # z external field\n",
    "J_zz = [[Jzz_0, i, i+1] for i in range(L-1)] # OBC\n",
    "J_xy = [[Jxy/2.0, i, i+1] for i in range(L-1)] # OBC\n",
    "h_z = [[hz, i] for i in range(L-1)]\n",
    "# static and dynamic lists\n",
    "static = [[\"+-\", J_xy], [\"-+\", J_xy], [\"zz\", J_zz], [\"z\", h_z]]\n",
    "dynamic = []"
   ]
  },
  {
   "cell_type": "code",
   "execution_count": 3,
   "metadata": {},
   "outputs": [
    {
     "name": "stdout",
     "output_type": "stream",
     "text": [
      "basis:\n",
      " reference states: \n",
      "array index   /   Fock state   /   integer repr. \n",
      "      0.         |1 1 1 1>           15  \n",
      "      1.         |1 1 1 0>           14  \n",
      "      2.         |1 1 0 1>           13  \n",
      "      3.         |1 1 0 0>           12  \n",
      "      4.         |1 0 1 1>           11  \n",
      "      5.         |1 0 1 0>           10  \n",
      "      6.         |1 0 0 1>            9  \n",
      "      7.         |1 0 0 0>            8  \n",
      "      8.         |0 1 1 1>            7  \n",
      "      9.         |0 1 1 0>            6  \n",
      "     10.         |0 1 0 1>            5  \n",
      "     11.         |0 1 0 0>            4  \n",
      "     12.         |0 0 1 1>            3  \n",
      "     13.         |0 0 1 0>            2  \n",
      "     14.         |0 0 0 1>            1  \n",
      "     15.         |0 0 0 0>            0  \n",
      "Hermiticity check passed!\n"
     ]
    },
    {
     "name": "stderr",
     "output_type": "stream",
     "text": [
      "C:\\Users\\admin\\AppData\\Local\\Temp\\ipykernel_18000\\3147131484.py:5: UserWarning: Test for symmetries not implemented for <class 'quspin.basis.basis_1d.spin.spin_basis_1d'>, to turn off this warning set check_symm=False in hamiltonian\n",
      "  H = hamiltonian(static,dynamic,basis=basis,dtype = np.float64)\n"
     ]
    },
    {
     "name": "stdout",
     "output_type": "stream",
     "text": [
      "nonzero-elements in Hamiltonian:\n",
      " static mat: \n",
      "  (0, 0)\t3.0\n",
      "  (1, 1)\t1.0\n",
      "  (1, 2)\t2.0\n",
      "  (2, 1)\t2.0\n",
      "  (2, 2)\t-1.0\n",
      "  (2, 4)\t2.0\n",
      "  (3, 3)\t1.0\n",
      "  (3, 5)\t2.0\n",
      "  (4, 2)\t2.0\n",
      "  (4, 4)\t-1.0\n",
      "  (4, 8)\t2.0\n",
      "  (5, 3)\t2.0\n",
      "  (5, 5)\t-3.0\n",
      "  (5, 6)\t2.0\n",
      "  (5, 9)\t2.0\n",
      "  (6, 5)\t2.0\n",
      "  (6, 6)\t-1.0\n",
      "  (6, 10)\t2.0\n",
      "  (7, 7)\t1.0\n",
      "  (7, 11)\t2.0\n",
      "  (8, 4)\t2.0\n",
      "  (8, 8)\t1.0\n",
      "  (9, 5)\t2.0\n",
      "  (9, 9)\t-1.0\n",
      "  (9, 10)\t2.0\n",
      "  (10, 6)\t2.0\n",
      "  (10, 9)\t2.0\n",
      "  (10, 10)\t-3.0\n",
      "  (10, 12)\t2.0\n",
      "  (11, 7)\t2.0\n",
      "  (11, 11)\t-1.0\n",
      "  (11, 13)\t2.0\n",
      "  (12, 10)\t2.0\n",
      "  (12, 12)\t1.0\n",
      "  (13, 11)\t2.0\n",
      "  (13, 13)\t-1.0\n",
      "  (13, 14)\t2.0\n",
      "  (14, 13)\t2.0\n",
      "  (14, 14)\t1.0\n",
      "  (15, 15)\t3.0\n",
      "\n",
      "\n",
      "dynamic:\n",
      "\n",
      "the eigen values of Hamiltonian [-6.46410162 -3.82842712 -3.82842712 -3.82842712 -1.         -1.\n",
      " -1.          0.46410162  1.82842712  1.82842712  1.82842712  3.\n",
      "  3.          3.          3.          3.        ]\n",
      "None\n"
     ]
    }
   ],
   "source": [
    "# 构造不同对称性的基矢量\n",
    "# 不加对称性的基矢量\n",
    "basis = spin_basis_1d(L)\n",
    "print(\"basis:\\n\", basis)\n",
    "H = hamiltonian(static,dynamic,basis=basis,dtype = np.float64)\n",
    "print('nonzero-elements in Hamiltonian:\\n', H.H)\n",
    "print(print('the eigen values of Hamiltonian', H.eigvalsh()))"
   ]
  },
  {
   "cell_type": "code",
   "execution_count": 10,
   "metadata": {},
   "outputs": [
    {
     "name": "stdout",
     "output_type": "stream",
     "text": [
      "basis:\n",
      " reference states: \n",
      "array index   /   Fock state   /   integer repr. \n",
      "     0.         |1 1 0 0>           12  \n",
      "     1.         |1 0 1 0>           10  \n",
      "     2.         |1 0 0 1>            9  \n",
      "     3.         |0 1 1 0>            6  \n",
      "     4.         |0 1 0 1>            5  \n",
      "     5.         |0 0 1 1>            3  \n",
      "Hermiticity check passed!\n",
      "Particle conservation check passed!\n",
      "nonzero-elements in Hamiltonian:\n",
      " static mat: \n",
      "  (0, 0)\t1.0\n",
      "  (0, 1)\t2.0\n",
      "  (1, 0)\t2.0\n",
      "  (1, 1)\t-3.0\n",
      "  (1, 2)\t2.0\n",
      "  (1, 3)\t2.0\n",
      "  (2, 1)\t2.0\n",
      "  (2, 2)\t-1.0\n",
      "  (2, 4)\t2.0\n",
      "  (3, 1)\t2.0\n",
      "  (3, 3)\t-1.0\n",
      "  (3, 4)\t2.0\n",
      "  (4, 2)\t2.0\n",
      "  (4, 3)\t2.0\n",
      "  (4, 4)\t-3.0\n",
      "  (4, 5)\t2.0\n",
      "  (5, 4)\t2.0\n",
      "  (5, 5)\t1.0\n",
      "\n",
      "\n",
      "dynamic:\n",
      "\n",
      "transfer to array:\n",
      " [[ 1.  2.  0.  0.  0.  0.]\n",
      " [ 2. -3.  2.  2.  0.  0.]\n",
      " [ 0.  2. -1.  0.  2.  0.]\n",
      " [ 0.  2.  0. -1.  2.  0.]\n",
      " [ 0.  0.  2.  2. -3.  2.]\n",
      " [ 0.  0.  0.  0.  2.  1.]]\n",
      "the eigen values of Hamiltonian [-6.46410162 -3.82842712 -1.          0.46410162  1.82842712  3.        ]\n",
      "None\n"
     ]
    },
    {
     "name": "stderr",
     "output_type": "stream",
     "text": [
      "C:\\Users\\admin\\AppData\\Local\\Temp\\ipykernel_18000\\3383665063.py:4: UserWarning: Test for symmetries not implemented for <class 'quspin.basis.basis_1d.spin.spin_basis_1d'>, to turn off this warning set check_symm=False in hamiltonian\n",
      "  H = hamiltonian(static,dynamic,basis=basis,dtype = np.float64)\n"
     ]
    }
   ],
   "source": [
    "# 在 Sz = 0 的子空间\n",
    "basis = spin_basis_1d(L, Nup= L // 2)\n",
    "print(\"basis:\\n\", basis)\n",
    "H = hamiltonian(static,dynamic,basis=basis,dtype = np.float64)\n",
    "print('nonzero-elements in Hamiltonian:\\n', H.H)\n",
    "print('transfer to array:\\n',H.H().toarray())\n",
    "print(print('the eigen values of Hamiltonian', H.eigvalsh()))\n"
   ]
  },
  {
   "cell_type": "code",
   "execution_count": 11,
   "metadata": {},
   "outputs": [
    {
     "name": "stdout",
     "output_type": "stream",
     "text": [
      "transfer to array:\n",
      " [[ 1.  2.  0.  0.  0.  0.]\n",
      " [ 2. -3.  2.  2.  0.  0.]\n",
      " [ 0.  2. -1.  0.  2.  0.]\n",
      " [ 0.  2.  0. -1.  2.  0.]\n",
      " [ 0.  0.  2.  2. -3.  2.]\n",
      " [ 0.  0.  0.  0.  2.  1.]]\n"
     ]
    }
   ],
   "source": [
    "print('transfer to array:\\n',H.H().toarray())"
   ]
  },
  {
   "cell_type": "code",
   "execution_count": 12,
   "metadata": {},
   "outputs": [
    {
     "name": "stdout",
     "output_type": "stream",
     "text": [
      "basis:\n",
      " reference states: \n",
      "array index   /   Fock state   /   integer repr. \n",
      "     0.         |1 1 0 0>           12  \n",
      "     1.         |1 0 1 0>           10  \n",
      "     2.         |1 0 0 1>            9  \n",
      "The states printed do NOT correspond to the physical states: see review arXiv:1101.3281 for more details about reference states for symmetry-reduced blocks.\n",
      "\n",
      "Hermiticity check passed!\n",
      "Particle conservation check passed!\n",
      "nonzero-elements in Hamiltonian:\n",
      " static mat: \n",
      "  (0, 0)\t1.0\n",
      "  (0, 1)\t2.0\n",
      "  (1, 0)\t2.0\n",
      "  (1, 1)\t-3.0\n",
      "  (1, 2)\t4.0\n",
      "  (2, 1)\t4.0\n",
      "  (2, 2)\t-1.0\n",
      "\n",
      "\n",
      "dynamic:\n",
      "\n",
      "transfer to array:\n",
      " [[ 1.  2.  0.]\n",
      " [ 2. -3.  4.]\n",
      " [ 0.  4. -1.]]\n",
      "the eigen values of Hamiltonian [-6.46410162  0.46410162  3.        ]\n",
      "None\n"
     ]
    },
    {
     "name": "stderr",
     "output_type": "stream",
     "text": [
      "C:\\Users\\admin\\AppData\\Local\\Temp\\ipykernel_18000\\1270287355.py:5: UserWarning: Test for symmetries not implemented for <class 'quspin.basis.basis_1d.spin.spin_basis_1d'>, to turn off this warning set check_symm=False in hamiltonian\n",
      "  H = hamiltonian(static,dynamic,basis=basis,dtype = np.float64)\n"
     ]
    }
   ],
   "source": [
    "# 在 Sz = 0 的子空间\n",
    "# 同时加上 zblock = 1 的 symmetry (spin inversion symmetry)\n",
    "basis = spin_basis_1d(L, Nup= L // 2, zblock = 1)\n",
    "print(\"basis:\\n\", basis)\n",
    "H = hamiltonian(static,dynamic,basis=basis,dtype = np.float64)\n",
    "print('nonzero-elements in Hamiltonian:\\n', H.H)\n",
    "print('transfer to array:\\n',H.H().toarray())\n",
    "print(print('the eigen values of Hamiltonian', H.eigvalsh()))"
   ]
  },
  {
   "cell_type": "code",
   "execution_count": 13,
   "metadata": {},
   "outputs": [
    {
     "name": "stdout",
     "output_type": "stream",
     "text": [
      "transfer to array:\n",
      " [[ 1.  2.  0.]\n",
      " [ 2. -3.  4.]\n",
      " [ 0.  4. -1.]]\n"
     ]
    }
   ],
   "source": [
    "print('transfer to array:\\n',H.H().toarray())"
   ]
  }
 ],
 "metadata": {
  "kernelspec": {
   "display_name": "Quspinenv2",
   "language": "python",
   "name": "python3"
  },
  "language_info": {
   "codemirror_mode": {
    "name": "ipython",
    "version": 3
   },
   "file_extension": ".py",
   "mimetype": "text/x-python",
   "name": "python",
   "nbconvert_exporter": "python",
   "pygments_lexer": "ipython3",
   "version": "3.8.17"
  },
  "orig_nbformat": 4
 },
 "nbformat": 4,
 "nbformat_minor": 2
}
