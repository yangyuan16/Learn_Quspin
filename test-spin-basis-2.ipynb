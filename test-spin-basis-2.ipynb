{
 "cells": [
  {
   "cell_type": "code",
   "execution_count": null,
   "metadata": {},
   "outputs": [],
   "source": [
    "# 测试自旋模型基矢量的对称性操作 pblock\n",
    "from quspin.basis import spin_basis_1d\n",
    "L = 4\n",
    "# compute spin-1/2 basis\n",
    "basis = spin_basis_1d(L, pauli=False)\n",
    "print(\"basis:\\n\", basis)"
   ]
  },
  {
   "cell_type": "code",
   "execution_count": null,
   "metadata": {},
   "outputs": [],
   "source": [
    "basis_2 = spin_basis_1d(L, pauli=True)\n",
    "print(\"basis_2:\\n\", basis_2)"
   ]
  },
  {
   "cell_type": "code",
   "execution_count": 6,
   "metadata": {},
   "outputs": [
    {
     "name": "stdout",
     "output_type": "stream",
     "text": [
      "reference states: \n",
      "array index   /   Fock state   /   integer repr. \n",
      "     0.         |1 1 0 0>           12  \n",
      "     1.         |1 0 1 0>           10  \n",
      "     2.         |1 0 0 1>            9  \n",
      "     3.         |0 1 1 0>            6  \n",
      "     4.         |0 1 0 1>            5  \n",
      "     5.         |0 0 1 1>            3  \n"
     ]
    }
   ],
   "source": [
    "# In particular, one can specify\n",
    "# a magnetisation sector (a.k.a. filling) using the basis optional argument Nup=int\n",
    "# 通过设置 Nup 的数量来得到某一个子空间\n",
    "# 比如 Nup = L // 2 对应的就是 zero magnetisation sector\n",
    "\n",
    "basis_3 = spin_basis_1d(L, pauli=False, Nup=L//2)\n",
    "print(basis_3)"
   ]
  },
  {
   "cell_type": "code",
   "execution_count": 7,
   "metadata": {},
   "outputs": [
    {
     "name": "stdout",
     "output_type": "stream",
     "text": [
      "reference states: \n",
      "array index   /   Fock state   /   integer repr. \n",
      "     0.         |1 1 0 0>           12  \n",
      "     1.         |1 0 1 0>           10  \n",
      "     2.         |1 0 0 1>            9  \n",
      "     3.         |0 1 1 0>            6  \n",
      "     4.         |0 1 0 1>            5  \n",
      "     5.         |0 0 1 1>            3  \n"
     ]
    }
   ],
   "source": [
    "basis_4 = spin_basis_1d(L, pauli=True, Nup=L//2)\n",
    "print(basis_4)"
   ]
  },
  {
   "cell_type": "code",
   "execution_count": 9,
   "metadata": {},
   "outputs": [
    {
     "name": "stdout",
     "output_type": "stream",
     "text": [
      "reference states: \n",
      "array index   /   Fock state   /   integer repr. \n",
      "     0.         |1 1 0 0>           12  \n",
      "     1.         |1 0 1 0>           10  \n",
      "     2.         |1 0 0 1>            9  \n",
      "     3.         |0 1 1 0>            6  \n",
      "The states printed do NOT correspond to the physical states: see review arXiv:1101.3281 for more details about reference states for symmetry-reduced blocks.\n",
      "\n"
     ]
    }
   ],
   "source": [
    "# However, magnetisation is not the only integral of motion, \n",
    "# the model also conserves parity, i.e. reflection\n",
    "# w.r.t. the middle of the chain. The parity operator has eigenvalues\n",
    "# 1 and -1, thus further divides the Hilbert space into two new subspaces.\n",
    "\n",
    "# To restrict the Hamiltonian to either one of them, \n",
    "# we use the basis optional argument pblock pblock = +-1 \n",
    "\n",
    "# Since parity and magnetisation commute, it is also possible to \n",
    "# request them simultanneously\n",
    "\n",
    "# positive parity\n",
    "basis_5 = spin_basis_1d(L, pauli=False, Nup=L//2, pblock = 1)\n",
    "print(basis_5)"
   ]
  }
 ],
 "metadata": {
  "kernelspec": {
   "display_name": "Quspinenv2",
   "language": "python",
   "name": "python3"
  },
  "language_info": {
   "codemirror_mode": {
    "name": "ipython",
    "version": 3
   },
   "file_extension": ".py",
   "mimetype": "text/x-python",
   "name": "python",
   "nbconvert_exporter": "python",
   "pygments_lexer": "ipython3",
   "version": "3.8.17"
  },
  "orig_nbformat": 4
 },
 "nbformat": 4,
 "nbformat_minor": 2
}
